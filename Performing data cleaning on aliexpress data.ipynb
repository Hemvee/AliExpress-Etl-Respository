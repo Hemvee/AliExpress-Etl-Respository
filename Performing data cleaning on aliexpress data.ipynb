{
 "cells": [
  {
   "cell_type": "code",
   "execution_count": 1,
   "id": "fe34f57d",
   "metadata": {},
   "outputs": [],
   "source": [
    "# importing necessary libary\n",
    "import pandas as pd"
   ]
  },
  {
   "cell_type": "code",
   "execution_count": 2,
   "id": "8fe0a7f6",
   "metadata": {},
   "outputs": [
    {
     "data": {
      "text/html": [
       "<div>\n",
       "<style scoped>\n",
       "    .dataframe tbody tr th:only-of-type {\n",
       "        vertical-align: middle;\n",
       "    }\n",
       "\n",
       "    .dataframe tbody tr th {\n",
       "        vertical-align: top;\n",
       "    }\n",
       "\n",
       "    .dataframe thead th {\n",
       "        text-align: right;\n",
       "    }\n",
       "</style>\n",
       "<table border=\"1\" class=\"dataframe\">\n",
       "  <thead>\n",
       "    <tr style=\"text-align: right;\">\n",
       "      <th></th>\n",
       "      <th>product_name</th>\n",
       "      <th>qty_sold</th>\n",
       "      <th>sales_price</th>\n",
       "      <th>original_price</th>\n",
       "      <th>rating</th>\n",
       "      <th>shipping_cost</th>\n",
       "      <th>store</th>\n",
       "    </tr>\n",
       "  </thead>\n",
       "  <tbody>\n",
       "    <tr>\n",
       "      <th>0</th>\n",
       "      <td>Sweatpants Versatile Baggy Pants Men Woman Out...</td>\n",
       "      <td>NaN</td>\n",
       "      <td>NGN10,824.87</td>\n",
       "      <td>NGN35,859.15</td>\n",
       "      <td>NaN</td>\n",
       "      <td>Free shipping</td>\n",
       "      <td>Innovation Men Store</td>\n",
       "    </tr>\n",
       "    <tr>\n",
       "      <th>1</th>\n",
       "      <td>Summer thin Japanese baggy broad-legged overal...</td>\n",
       "      <td>NaN</td>\n",
       "      <td>NGN22,785.04</td>\n",
       "      <td>NGN65,027.18</td>\n",
       "      <td>NaN</td>\n",
       "      <td>Free shipping</td>\n",
       "      <td>Shop1103183813 Store</td>\n",
       "    </tr>\n",
       "    <tr>\n",
       "      <th>2</th>\n",
       "      <td>Bratz Pink Printing Man Woman Pants Pocket Run...</td>\n",
       "      <td>3 sold</td>\n",
       "      <td>NGN11,819.24</td>\n",
       "      <td>NGN37,847.88</td>\n",
       "      <td>NaN</td>\n",
       "      <td>Free shipping</td>\n",
       "      <td>Innovation Men Store</td>\n",
       "    </tr>\n",
       "    <tr>\n",
       "      <th>3</th>\n",
       "      <td>Spring and summer thin high street n-style ret...</td>\n",
       "      <td>NaN</td>\n",
       "      <td>NGN12,670.32</td>\n",
       "      <td>NGN40,358.38</td>\n",
       "      <td>NaN</td>\n",
       "      <td>Free shipping</td>\n",
       "      <td>Shop1103183813 Store</td>\n",
       "    </tr>\n",
       "    <tr>\n",
       "      <th>4</th>\n",
       "      <td>New York City Print Male Famale Tracksuit Pock...</td>\n",
       "      <td>NaN</td>\n",
       "      <td>NGN6,721.25</td>\n",
       "      <td>NGN37,847.88</td>\n",
       "      <td>NaN</td>\n",
       "      <td>Free shipping</td>\n",
       "      <td>Innovation Men Store</td>\n",
       "    </tr>\n",
       "    <tr>\n",
       "      <th>...</th>\n",
       "      <td>...</td>\n",
       "      <td>...</td>\n",
       "      <td>...</td>\n",
       "      <td>...</td>\n",
       "      <td>...</td>\n",
       "      <td>...</td>\n",
       "      <td>...</td>\n",
       "    </tr>\n",
       "    <tr>\n",
       "      <th>595</th>\n",
       "      <td>Men Autumn Summer Sports Running Pants Pockets...</td>\n",
       "      <td>NaN</td>\n",
       "      <td>NGN9,809.12</td>\n",
       "      <td>NGN33,004.36</td>\n",
       "      <td>NaN</td>\n",
       "      <td>Free shipping</td>\n",
       "      <td>Shop1103754028 Store</td>\n",
       "    </tr>\n",
       "    <tr>\n",
       "      <th>596</th>\n",
       "      <td>Friends Fun Letter Printed Men Women Pants Bag...</td>\n",
       "      <td>NaN</td>\n",
       "      <td>NGN11,641.75</td>\n",
       "      <td>NGN37,847.88</td>\n",
       "      <td>NaN</td>\n",
       "      <td>Free shipping</td>\n",
       "      <td>Innovation Men Store</td>\n",
       "    </tr>\n",
       "    <tr>\n",
       "      <th>597</th>\n",
       "      <td>Boys personality fashion all-in-one Japanese c...</td>\n",
       "      <td>NaN</td>\n",
       "      <td>NGN12,826.43</td>\n",
       "      <td>NGN40,739.02</td>\n",
       "      <td>NaN</td>\n",
       "      <td>Free shipping</td>\n",
       "      <td>Shop1103183813 Store</td>\n",
       "    </tr>\n",
       "    <tr>\n",
       "      <th>598</th>\n",
       "      <td>Spring and summer 2024 Japanese overalls men's...</td>\n",
       "      <td>NaN</td>\n",
       "      <td>NGN22,785.04</td>\n",
       "      <td>NGN65,027.18</td>\n",
       "      <td>NaN</td>\n",
       "      <td>Free shipping</td>\n",
       "      <td>Shop1103183813 Store</td>\n",
       "    </tr>\n",
       "    <tr>\n",
       "      <th>599</th>\n",
       "      <td>New Spring Men Casual Pants Knitting Sweatpant...</td>\n",
       "      <td>NaN</td>\n",
       "      <td>NGN15,862.98</td>\n",
       "      <td>NGN65,797.01</td>\n",
       "      <td>NaN</td>\n",
       "      <td>Free shipping</td>\n",
       "      <td>Fashionable Sports And Outdoor Clothing Store</td>\n",
       "    </tr>\n",
       "  </tbody>\n",
       "</table>\n",
       "<p>600 rows × 7 columns</p>\n",
       "</div>"
      ],
      "text/plain": [
       "                                          product_name qty_sold   sales_price  \\\n",
       "0    Sweatpants Versatile Baggy Pants Men Woman Out...      NaN  NGN10,824.87   \n",
       "1    Summer thin Japanese baggy broad-legged overal...      NaN  NGN22,785.04   \n",
       "2    Bratz Pink Printing Man Woman Pants Pocket Run...   3 sold  NGN11,819.24   \n",
       "3    Spring and summer thin high street n-style ret...      NaN  NGN12,670.32   \n",
       "4    New York City Print Male Famale Tracksuit Pock...      NaN   NGN6,721.25   \n",
       "..                                                 ...      ...           ...   \n",
       "595  Men Autumn Summer Sports Running Pants Pockets...      NaN   NGN9,809.12   \n",
       "596  Friends Fun Letter Printed Men Women Pants Bag...      NaN  NGN11,641.75   \n",
       "597  Boys personality fashion all-in-one Japanese c...      NaN  NGN12,826.43   \n",
       "598  Spring and summer 2024 Japanese overalls men's...      NaN  NGN22,785.04   \n",
       "599  New Spring Men Casual Pants Knitting Sweatpant...      NaN  NGN15,862.98   \n",
       "\n",
       "    original_price  rating  shipping_cost  \\\n",
       "0     NGN35,859.15     NaN  Free shipping   \n",
       "1     NGN65,027.18     NaN  Free shipping   \n",
       "2     NGN37,847.88     NaN  Free shipping   \n",
       "3     NGN40,358.38     NaN  Free shipping   \n",
       "4     NGN37,847.88     NaN  Free shipping   \n",
       "..             ...     ...            ...   \n",
       "595   NGN33,004.36     NaN  Free shipping   \n",
       "596   NGN37,847.88     NaN  Free shipping   \n",
       "597   NGN40,739.02     NaN  Free shipping   \n",
       "598   NGN65,027.18     NaN  Free shipping   \n",
       "599   NGN65,797.01     NaN  Free shipping   \n",
       "\n",
       "                                             store  \n",
       "0                             Innovation Men Store  \n",
       "1                             Shop1103183813 Store  \n",
       "2                             Innovation Men Store  \n",
       "3                             Shop1103183813 Store  \n",
       "4                             Innovation Men Store  \n",
       "..                                             ...  \n",
       "595                           Shop1103754028 Store  \n",
       "596                           Innovation Men Store  \n",
       "597                           Shop1103183813 Store  \n",
       "598                           Shop1103183813 Store  \n",
       "599  Fashionable Sports And Outdoor Clothing Store  \n",
       "\n",
       "[600 rows x 7 columns]"
      ]
     },
     "execution_count": 2,
     "metadata": {},
     "output_type": "execute_result"
    }
   ],
   "source": [
    "# load data\n",
    "df = pd.read_csv(\"aliexpress_product.csv\")\n",
    "df"
   ]
  },
  {
   "cell_type": "markdown",
   "id": "924a3275",
   "metadata": {},
   "source": [
    "### Inspect the data"
   ]
  },
  {
   "cell_type": "code",
   "execution_count": 3,
   "id": "870b2abb",
   "metadata": {},
   "outputs": [
    {
     "name": "stdout",
     "output_type": "stream",
     "text": [
      "<class 'pandas.core.frame.DataFrame'>\n",
      "RangeIndex: 600 entries, 0 to 599\n",
      "Data columns (total 7 columns):\n",
      " #   Column          Non-Null Count  Dtype  \n",
      "---  ------          --------------  -----  \n",
      " 0   product_name    600 non-null    object \n",
      " 1   qty_sold        104 non-null    object \n",
      " 2   sales_price     600 non-null    object \n",
      " 3   original_price  592 non-null    object \n",
      " 4   rating          0 non-null      float64\n",
      " 5   shipping_cost   598 non-null    object \n",
      " 6   store           600 non-null    object \n",
      "dtypes: float64(1), object(6)\n",
      "memory usage: 32.9+ KB\n"
     ]
    }
   ],
   "source": [
    "# check the data info\n",
    "df.info()"
   ]
  },
  {
   "cell_type": "code",
   "execution_count": 4,
   "id": "d4211de2",
   "metadata": {},
   "outputs": [
    {
     "data": {
      "text/plain": [
       "567"
      ]
     },
     "execution_count": 4,
     "metadata": {},
     "output_type": "execute_result"
    }
   ],
   "source": [
    "df.duplicated().sum()"
   ]
  },
  {
   "cell_type": "markdown",
   "id": "163703e8",
   "metadata": {},
   "source": [
    "### Qty"
   ]
  },
  {
   "cell_type": "code",
   "execution_count": 5,
   "id": "8573e83e",
   "metadata": {},
   "outputs": [
    {
     "data": {
      "text/plain": [
       "array([nan, '3 sold', '3000+ sold', '9 sold', '13 sold', '11 sold',\n",
       "       '7 sold', '40 sold', '139 sold', '900+ sold', '291 sold',\n",
       "       '20 sold', '8 sold', '2 sold', '1,000+ sold', '1 sold'],\n",
       "      dtype=object)"
      ]
     },
     "execution_count": 5,
     "metadata": {},
     "output_type": "execute_result"
    }
   ],
   "source": [
    "# check unique data\n",
    "df[\"qty_sold\"].unique()"
   ]
  },
  {
   "cell_type": "code",
   "execution_count": 6,
   "id": "08ae5904",
   "metadata": {},
   "outputs": [],
   "source": [
    "df[\"qty_sold\"] = df[\"qty_sold\"].str.replace(\" sold\", \"\") # remove the 'sold'\n",
    "df[\"qty_sold\"] = df[\"qty_sold\"].str.replace(\"+\", \"\") # remove the '+'\n",
    "df[\"qty_sold\"] = df[\"qty_sold\"].str.replace(\",\", \"\") # remove the ','\n",
    "\n",
    "# fill na values\n",
    "df[\"qty_sold\"].fillna(value=0, inplace=True)"
   ]
  },
  {
   "cell_type": "code",
   "execution_count": 7,
   "id": "5cd33909",
   "metadata": {},
   "outputs": [],
   "source": [
    "# change the datatype\n",
    "df[\"qty_sold\"] = df[\"qty_sold\"].astype(\"int64\") # cahnge the data type to integer"
   ]
  },
  {
   "cell_type": "markdown",
   "id": "0347d4af",
   "metadata": {},
   "source": [
    "### Sales Price"
   ]
  },
  {
   "cell_type": "code",
   "execution_count": 8,
   "id": "f2ce57cb",
   "metadata": {},
   "outputs": [
    {
     "data": {
      "text/plain": [
       "array(['NGN10,824.87', 'NGN22,785.04', 'NGN11,819.24', 'NGN12,670.32',\n",
       "       'NGN6,721.25', 'NGN9,809.12', 'NGN11,641.75', 'NGN12,826.43',\n",
       "       'NGN15,862.98', 'NGN21,694.46', 'NGN17,426.17', 'NGN14,686.66',\n",
       "       'NGN16,371.92', 'NGN13,615.5', 'NGN8,896.02', 'NGN21,613.19',\n",
       "       'NGN24,679.68', 'NGN19,445.81', 'NGN18,991.49', 'NGN19,626.41',\n",
       "       'NGN13,726.51', 'NGN12,901.84', 'NGN11,453.37', 'NGN9,270.24',\n",
       "       'NGN10,525.49', 'NGN33,397.83', 'NGN19,305.84', 'NGN10,820.59',\n",
       "       'NGN1,710.73'], dtype=object)"
      ]
     },
     "execution_count": 8,
     "metadata": {},
     "output_type": "execute_result"
    }
   ],
   "source": [
    "# check unique data\n",
    "df[\"sales_price\"].unique()"
   ]
  },
  {
   "cell_type": "code",
   "execution_count": 9,
   "id": "597d4ebb",
   "metadata": {},
   "outputs": [],
   "source": [
    "df[\"sales_price\"] = df[\"sales_price\"].str.replace(\"NGN\", \"\")   # remove the 'NGN'\n",
    "df[\"sales_price\"] = df[\"sales_price\"].str.replace(\",\", \"\")     # remove the ','"
   ]
  },
  {
   "cell_type": "code",
   "execution_count": 10,
   "id": "7f9d1fa6",
   "metadata": {},
   "outputs": [],
   "source": [
    "df[\"sales_price\"] = df[\"sales_price\"].astype(\"float64\")  # this is to change the datatype"
   ]
  },
  {
   "cell_type": "code",
   "execution_count": 11,
   "id": "b12437f9",
   "metadata": {},
   "outputs": [
    {
     "data": {
      "text/plain": [
       "array([10824.87, 22785.04, 11819.24, 12670.32,  6721.25,  9809.12,\n",
       "       11641.75, 12826.43, 15862.98, 21694.46, 17426.17, 14686.66,\n",
       "       16371.92, 13615.5 ,  8896.02, 21613.19, 24679.68, 19445.81,\n",
       "       18991.49, 19626.41, 13726.51, 12901.84, 11453.37,  9270.24,\n",
       "       10525.49, 33397.83, 19305.84, 10820.59,  1710.73])"
      ]
     },
     "execution_count": 11,
     "metadata": {},
     "output_type": "execute_result"
    }
   ],
   "source": [
    "df[\"sales_price\"].unique()"
   ]
  },
  {
   "cell_type": "markdown",
   "id": "239811dd",
   "metadata": {},
   "source": [
    "### Original Price"
   ]
  },
  {
   "cell_type": "code",
   "execution_count": 12,
   "id": "e500a4d2",
   "metadata": {},
   "outputs": [
    {
     "data": {
      "text/plain": [
       "array(['NGN35,859.15', 'NGN65,027.18', 'NGN37,847.88', 'NGN40,358.38',\n",
       "       'NGN33,004.36', 'NGN40,739.02', 'NGN65,797.01', 'NGN62,369.13',\n",
       "       'NGN50,616.38', 'NGN31,409.1', 'NGN50,620.65', 'NGN40,681.28',\n",
       "       'NGN29,704.78', 'NGN59,281.25', 'NGN64,879.63', 'NGN19,445.81',\n",
       "       'NGN52,117.55', 'NGN41,970.75', nan, 'NGN33,557.2', 'NGN11,453.37',\n",
       "       'NGN32,063.45', 'NGN34,272.44', 'NGN33,397.83', 'NGN55,902.55',\n",
       "       'NGN33,688.65'], dtype=object)"
      ]
     },
     "execution_count": 12,
     "metadata": {},
     "output_type": "execute_result"
    }
   ],
   "source": [
    "df[\"original_price\"].unique()"
   ]
  },
  {
   "cell_type": "code",
   "execution_count": 13,
   "id": "68d92acb",
   "metadata": {},
   "outputs": [],
   "source": [
    "df[\"original_price\"] = df[\"original_price\"].str.replace(\"NGN\", \"\")  # remove the 'NGN'\n",
    "df[\"original_price\"] = df[\"original_price\"].str.replace(\",\", \"\")    # remove the ','"
   ]
  },
  {
   "cell_type": "code",
   "execution_count": 14,
   "id": "9aec3fe6",
   "metadata": {},
   "outputs": [],
   "source": [
    "df[\"original_price\"] = df[\"original_price\"].astype(\"float64\")"
   ]
  },
  {
   "cell_type": "code",
   "execution_count": 15,
   "id": "7638cc06",
   "metadata": {},
   "outputs": [],
   "source": [
    "df[\"original_price\"].fillna(value=0, inplace=True)   # remove the missing values and input 0"
   ]
  },
  {
   "cell_type": "markdown",
   "id": "94056b29",
   "metadata": {},
   "source": [
    "### Rating"
   ]
  },
  {
   "cell_type": "code",
   "execution_count": 16,
   "id": "26f38d7c",
   "metadata": {},
   "outputs": [],
   "source": [
    "# This helps remove the rating column\n",
    "df.drop(columns=[\"rating\"], inplace=True) "
   ]
  },
  {
   "cell_type": "markdown",
   "id": "2b47903d",
   "metadata": {},
   "source": [
    "### Shipping Cost"
   ]
  },
  {
   "cell_type": "code",
   "execution_count": 17,
   "id": "da2430ee",
   "metadata": {},
   "outputs": [
    {
     "data": {
      "text/plain": [
       "array(['Free shipping', '+Shipping: NGN17,763.85', nan,\n",
       "       '+Shipping: NGN20,588.7'], dtype=object)"
      ]
     },
     "execution_count": 17,
     "metadata": {},
     "output_type": "execute_result"
    }
   ],
   "source": [
    "df[\"shipping_cost\"].unique()"
   ]
  },
  {
   "cell_type": "code",
   "execution_count": 25,
   "id": "e3b0bd42",
   "metadata": {},
   "outputs": [],
   "source": [
    "# fill na\n",
    "df['shipping_cost'].fillna(value=0, inplace=True)"
   ]
  },
  {
   "cell_type": "code",
   "execution_count": 30,
   "id": "da953c13",
   "metadata": {},
   "outputs": [
    {
     "data": {
      "text/plain": [
       "0"
      ]
     },
     "execution_count": 30,
     "metadata": {},
     "output_type": "execute_result"
    }
   ],
   "source": [
    "# this is to show the number of data in the s lishipping costt that write\n",
    "df[\"shipping_cost\"].isna().sum()"
   ]
  },
  {
   "cell_type": "markdown",
   "id": "1fa4de76",
   "metadata": {},
   "source": [
    "### Store"
   ]
  },
  {
   "cell_type": "code",
   "execution_count": 27,
   "id": "85378a7f",
   "metadata": {},
   "outputs": [
    {
     "data": {
      "text/plain": [
       "0"
      ]
     },
     "execution_count": 27,
     "metadata": {},
     "output_type": "execute_result"
    }
   ],
   "source": [
    "# this is to show the number of data in the store list that write\n",
    "df[\"store\"].isna().sum()"
   ]
  },
  {
   "cell_type": "code",
   "execution_count": 28,
   "id": "54349dcf",
   "metadata": {},
   "outputs": [
    {
     "data": {
      "text/html": [
       "<div>\n",
       "<style scoped>\n",
       "    .dataframe tbody tr th:only-of-type {\n",
       "        vertical-align: middle;\n",
       "    }\n",
       "\n",
       "    .dataframe tbody tr th {\n",
       "        vertical-align: top;\n",
       "    }\n",
       "\n",
       "    .dataframe thead th {\n",
       "        text-align: right;\n",
       "    }\n",
       "</style>\n",
       "<table border=\"1\" class=\"dataframe\">\n",
       "  <thead>\n",
       "    <tr style=\"text-align: right;\">\n",
       "      <th></th>\n",
       "      <th>product_name</th>\n",
       "      <th>qty_sold</th>\n",
       "      <th>sales_price</th>\n",
       "      <th>original_price</th>\n",
       "      <th>shipping_cost</th>\n",
       "      <th>store</th>\n",
       "    </tr>\n",
       "  </thead>\n",
       "  <tbody>\n",
       "    <tr>\n",
       "      <th>0</th>\n",
       "      <td>Sweatpants Versatile Baggy Pants Men Woman Out...</td>\n",
       "      <td>0</td>\n",
       "      <td>10824.87</td>\n",
       "      <td>35859.15</td>\n",
       "      <td>Free shipping</td>\n",
       "      <td>Innovation Men Store</td>\n",
       "    </tr>\n",
       "    <tr>\n",
       "      <th>1</th>\n",
       "      <td>Summer thin Japanese baggy broad-legged overal...</td>\n",
       "      <td>0</td>\n",
       "      <td>22785.04</td>\n",
       "      <td>65027.18</td>\n",
       "      <td>Free shipping</td>\n",
       "      <td>Shop1103183813 Store</td>\n",
       "    </tr>\n",
       "    <tr>\n",
       "      <th>2</th>\n",
       "      <td>Bratz Pink Printing Man Woman Pants Pocket Run...</td>\n",
       "      <td>3</td>\n",
       "      <td>11819.24</td>\n",
       "      <td>37847.88</td>\n",
       "      <td>Free shipping</td>\n",
       "      <td>Innovation Men Store</td>\n",
       "    </tr>\n",
       "    <tr>\n",
       "      <th>3</th>\n",
       "      <td>Spring and summer thin high street n-style ret...</td>\n",
       "      <td>0</td>\n",
       "      <td>12670.32</td>\n",
       "      <td>40358.38</td>\n",
       "      <td>Free shipping</td>\n",
       "      <td>Shop1103183813 Store</td>\n",
       "    </tr>\n",
       "    <tr>\n",
       "      <th>4</th>\n",
       "      <td>New York City Print Male Famale Tracksuit Pock...</td>\n",
       "      <td>0</td>\n",
       "      <td>6721.25</td>\n",
       "      <td>37847.88</td>\n",
       "      <td>Free shipping</td>\n",
       "      <td>Innovation Men Store</td>\n",
       "    </tr>\n",
       "  </tbody>\n",
       "</table>\n",
       "</div>"
      ],
      "text/plain": [
       "                                        product_name  qty_sold  sales_price  \\\n",
       "0  Sweatpants Versatile Baggy Pants Men Woman Out...         0     10824.87   \n",
       "1  Summer thin Japanese baggy broad-legged overal...         0     22785.04   \n",
       "2  Bratz Pink Printing Man Woman Pants Pocket Run...         3     11819.24   \n",
       "3  Spring and summer thin high street n-style ret...         0     12670.32   \n",
       "4  New York City Print Male Famale Tracksuit Pock...         0      6721.25   \n",
       "\n",
       "   original_price  shipping_cost                 store  \n",
       "0        35859.15  Free shipping  Innovation Men Store  \n",
       "1        65027.18  Free shipping  Shop1103183813 Store  \n",
       "2        37847.88  Free shipping  Innovation Men Store  \n",
       "3        40358.38  Free shipping  Shop1103183813 Store  \n",
       "4        37847.88  Free shipping  Innovation Men Store  "
      ]
     },
     "execution_count": 28,
     "metadata": {},
     "output_type": "execute_result"
    }
   ],
   "source": [
    "df.head()"
   ]
  },
  {
   "cell_type": "markdown",
   "id": "5a1fccfb",
   "metadata": {},
   "source": [
    "## Save Clean Data"
   ]
  },
  {
   "cell_type": "code",
   "execution_count": 38,
   "id": "9c2cf536",
   "metadata": {},
   "outputs": [],
   "source": [
    "# save data \n",
    "cleaned_csv = df.to_csv(\"aliexpress_cleaned.csv\", index=False)"
   ]
  },
  {
   "cell_type": "code",
   "execution_count": null,
   "id": "facc8b52",
   "metadata": {},
   "outputs": [],
   "source": []
  }
 ],
 "metadata": {
  "kernelspec": {
   "display_name": "Python 3 (ipykernel)",
   "language": "python",
   "name": "python3"
  },
  "language_info": {
   "codemirror_mode": {
    "name": "ipython",
    "version": 3
   },
   "file_extension": ".py",
   "mimetype": "text/x-python",
   "name": "python",
   "nbconvert_exporter": "python",
   "pygments_lexer": "ipython3",
   "version": "3.11.5"
  }
 },
 "nbformat": 4,
 "nbformat_minor": 5
}
